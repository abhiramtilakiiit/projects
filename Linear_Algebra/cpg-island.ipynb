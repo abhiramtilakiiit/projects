{
 "cells": [
  {
   "attachments": {},
   "cell_type": "markdown",
   "metadata": {},
   "source": [
    "### Here we perform logistic regression, on "
   ]
  },
  {
   "cell_type": "code",
   "execution_count": 29,
   "metadata": {
    "_cell_guid": "b1076dfc-b9ad-4769-8c92-a6c4dae69d19",
    "_uuid": "8f2839f25d086af736a60e9eeb907d3b93b6e0e5",
    "execution": {
     "iopub.execute_input": "2020-09-10T07:30:55.805355Z",
     "iopub.status.busy": "2020-09-10T07:30:55.804550Z",
     "iopub.status.idle": "2020-09-10T07:30:57.463418Z",
     "shell.execute_reply": "2020-09-10T07:30:57.464026Z"
    },
    "papermill": {
     "duration": 1.674428,
     "end_time": "2020-09-10T07:30:57.464210",
     "exception": false,
     "start_time": "2020-09-10T07:30:55.789782",
     "status": "completed"
    },
    "tags": []
   },
   "outputs": [
    {
     "data": {
      "text/html": [
       "<div>\n",
       "<style scoped>\n",
       "    .dataframe tbody tr th:only-of-type {\n",
       "        vertical-align: middle;\n",
       "    }\n",
       "\n",
       "    .dataframe tbody tr th {\n",
       "        vertical-align: top;\n",
       "    }\n",
       "\n",
       "    .dataframe thead th {\n",
       "        text-align: right;\n",
       "    }\n",
       "</style>\n",
       "<table border=\"1\" class=\"dataframe\">\n",
       "  <thead>\n",
       "    <tr style=\"text-align: right;\">\n",
       "      <th></th>\n",
       "      <th>CHR</th>\n",
       "      <th>MAPINFO</th>\n",
       "      <th>UCSC_CpG_Islands_Name</th>\n",
       "      <th>UCSC_RefGene_Group</th>\n",
       "      <th>Relation_to_UCSC_CpG_Island</th>\n",
       "      <th>Regulatory_Feature_Group</th>\n",
       "      <th>Forward_Sequence</th>\n",
       "      <th>seq</th>\n",
       "      <th>Beta</th>\n",
       "    </tr>\n",
       "    <tr>\n",
       "      <th>Id</th>\n",
       "      <th></th>\n",
       "      <th></th>\n",
       "      <th></th>\n",
       "      <th></th>\n",
       "      <th></th>\n",
       "      <th></th>\n",
       "      <th></th>\n",
       "      <th></th>\n",
       "      <th></th>\n",
       "    </tr>\n",
       "  </thead>\n",
       "  <tbody>\n",
       "    <tr>\n",
       "      <th>cg00001583</th>\n",
       "      <td>1</td>\n",
       "      <td>200011786</td>\n",
       "      <td>chr1:200011400-200012055</td>\n",
       "      <td>Body;Body</td>\n",
       "      <td>Island</td>\n",
       "      <td>NaN</td>\n",
       "      <td>CGCCGTTGGGTAGCAGGAGGTAGAGCCTAGGCGAGAGCCTGGTGCG...</td>\n",
       "      <td>GCGCTTCTTTGCCCCGATGAGTTCGCCTCCCCAAACGCCTACTTCG...</td>\n",
       "      <td>0</td>\n",
       "    </tr>\n",
       "  </tbody>\n",
       "</table>\n",
       "</div>"
      ],
      "text/plain": [
       "            CHR    MAPINFO     UCSC_CpG_Islands_Name UCSC_RefGene_Group   \n",
       "Id                                                                        \n",
       "cg00001583    1  200011786  chr1:200011400-200012055          Body;Body  \\\n",
       "\n",
       "           Relation_to_UCSC_CpG_Island Regulatory_Feature_Group   \n",
       "Id                                                                \n",
       "cg00001583                      Island                      NaN  \\\n",
       "\n",
       "                                             Forward_Sequence   \n",
       "Id                                                              \n",
       "cg00001583  CGCCGTTGGGTAGCAGGAGGTAGAGCCTAGGCGAGAGCCTGGTGCG...  \\\n",
       "\n",
       "                                                          seq  Beta  \n",
       "Id                                                                   \n",
       "cg00001583  GCGCTTCTTTGCCCCGATGAGTTCGCCTCCCCAAACGCCTACTTCG...     0  "
      ]
     },
     "execution_count": 29,
     "metadata": {},
     "output_type": "execute_result"
    }
   ],
   "source": [
    "import pandas as pd \n",
    "from sklearn.linear_model import LogisticRegression\n",
    "from sklearn.metrics import roc_auc_score\n",
    "from sklearn.metrics import classification_report\n",
    "train='./train.csv'\n",
    "\n",
    "# load the dataframe\n",
    "df=pd.read_csv(train,index_col=0)\n",
    "df.head(1)"
   ]
  },
  {
   "cell_type": "code",
   "execution_count": 30,
   "metadata": {
    "_cell_guid": "79c7e3d0-c299-4dcb-8224-4455121ee9b0",
    "_uuid": "d629ff2d2480ee46fbb7e2d37f6b5fab8052498a",
    "execution": {
     "iopub.execute_input": "2020-09-10T07:30:57.495208Z",
     "iopub.status.busy": "2020-09-10T07:30:57.493958Z",
     "iopub.status.idle": "2020-09-10T07:30:57.507601Z",
     "shell.execute_reply": "2020-09-10T07:30:57.506950Z"
    },
    "papermill": {
     "duration": 0.035367,
     "end_time": "2020-09-10T07:30:57.507741",
     "exception": false,
     "start_time": "2020-09-10T07:30:57.472374",
     "status": "completed"
    },
    "tags": []
   },
   "outputs": [
    {
     "data": {
      "text/html": [
       "<div>\n",
       "<style scoped>\n",
       "    .dataframe tbody tr th:only-of-type {\n",
       "        vertical-align: middle;\n",
       "    }\n",
       "\n",
       "    .dataframe tbody tr th {\n",
       "        vertical-align: top;\n",
       "    }\n",
       "\n",
       "    .dataframe thead th {\n",
       "        text-align: right;\n",
       "    }\n",
       "</style>\n",
       "<table border=\"1\" class=\"dataframe\">\n",
       "  <thead>\n",
       "    <tr style=\"text-align: right;\">\n",
       "      <th></th>\n",
       "      <th>Island</th>\n",
       "      <th>N_Shelf</th>\n",
       "      <th>N_Shore</th>\n",
       "      <th>S_Shelf</th>\n",
       "      <th>S_Shore</th>\n",
       "      <th>Beta</th>\n",
       "    </tr>\n",
       "    <tr>\n",
       "      <th>Id</th>\n",
       "      <th></th>\n",
       "      <th></th>\n",
       "      <th></th>\n",
       "      <th></th>\n",
       "      <th></th>\n",
       "      <th></th>\n",
       "    </tr>\n",
       "  </thead>\n",
       "  <tbody>\n",
       "    <tr>\n",
       "      <th>cg00001583</th>\n",
       "      <td>True</td>\n",
       "      <td>False</td>\n",
       "      <td>False</td>\n",
       "      <td>False</td>\n",
       "      <td>False</td>\n",
       "      <td>0</td>\n",
       "    </tr>\n",
       "  </tbody>\n",
       "</table>\n",
       "</div>"
      ],
      "text/plain": [
       "            Island  N_Shelf  N_Shore  S_Shelf  S_Shore  Beta\n",
       "Id                                                          \n",
       "cg00001583    True    False    False    False    False     0"
      ]
     },
     "execution_count": 30,
     "metadata": {},
     "output_type": "execute_result"
    }
   ],
   "source": [
    "X = pd.get_dummies(df['Relation_to_UCSC_CpG_Island'])\n",
    "X['Beta']=df.Beta\n",
    "X.head(1)"
   ]
  },
  {
   "cell_type": "code",
   "execution_count": 31,
   "metadata": {
    "execution": {
     "iopub.execute_input": "2020-09-10T07:30:57.532915Z",
     "iopub.status.busy": "2020-09-10T07:30:57.531679Z",
     "iopub.status.idle": "2020-09-10T07:30:57.545653Z",
     "shell.execute_reply": "2020-09-10T07:30:57.545067Z"
    },
    "papermill": {
     "duration": 0.029641,
     "end_time": "2020-09-10T07:30:57.545780",
     "exception": false,
     "start_time": "2020-09-10T07:30:57.516139",
     "status": "completed"
    },
    "tags": []
   },
   "outputs": [
    {
     "data": {
      "text/plain": [
       "Island\n",
       "False    0.609670\n",
       "True     0.122612\n",
       "Name: Beta, dtype: float64"
      ]
     },
     "execution_count": 31,
     "metadata": {},
     "output_type": "execute_result"
    }
   ],
   "source": [
    "X['Beta']=df.Beta\n",
    "X.groupby('Island').mean()['Beta']"
   ]
  },
  {
   "cell_type": "code",
   "execution_count": 32,
   "metadata": {
    "execution": {
     "iopub.execute_input": "2020-09-10T07:30:57.573867Z",
     "iopub.status.busy": "2020-09-10T07:30:57.573037Z",
     "iopub.status.idle": "2020-09-10T07:30:57.778822Z",
     "shell.execute_reply": "2020-09-10T07:30:57.777757Z"
    },
    "papermill": {
     "duration": 0.22444,
     "end_time": "2020-09-10T07:30:57.778977",
     "exception": false,
     "start_time": "2020-09-10T07:30:57.554537",
     "status": "completed"
    },
    "tags": []
   },
   "outputs": [
    {
     "name": "stdout",
     "output_type": "stream",
     "text": [
      "AUC: 0.8080143195114745\n",
      "              precision    recall  f1-score   support\n",
      "\n",
      "           0       0.84      0.94      0.88     20243\n",
      "           1       0.80      0.58      0.67      8822\n",
      "\n",
      "    accuracy                           0.83     29065\n",
      "   macro avg       0.82      0.76      0.78     29065\n",
      "weighted avg       0.83      0.83      0.82     29065\n",
      "\n"
     ]
    }
   ],
   "source": [
    "X=X.drop('Beta',axis=1)\n",
    "y=df.Beta\n",
    "clf = LogisticRegression(random_state=0).fit(X, y)\n",
    "y=y.values\n",
    "prob=clf.predict_proba(X)\n",
    "print('AUC: '+str(roc_auc_score(y,prob[:,1])))\n",
    "pred=clf.predict(X)\n",
    "print(classification_report(y, pred))"
   ]
  },
  {
   "cell_type": "code",
   "execution_count": 33,
   "metadata": {
    "execution": {
     "iopub.execute_input": "2020-09-10T07:30:57.807924Z",
     "iopub.status.busy": "2020-09-10T07:30:57.807019Z",
     "iopub.status.idle": "2020-09-10T07:30:57.931504Z",
     "shell.execute_reply": "2020-09-10T07:30:57.930649Z"
    },
    "papermill": {
     "duration": 0.142509,
     "end_time": "2020-09-10T07:30:57.931641",
     "exception": false,
     "start_time": "2020-09-10T07:30:57.789132",
     "status": "completed"
    },
    "tags": []
   },
   "outputs": [
    {
     "data": {
      "text/html": [
       "<div>\n",
       "<style scoped>\n",
       "    .dataframe tbody tr th:only-of-type {\n",
       "        vertical-align: middle;\n",
       "    }\n",
       "\n",
       "    .dataframe tbody tr th {\n",
       "        vertical-align: top;\n",
       "    }\n",
       "\n",
       "    .dataframe thead th {\n",
       "        text-align: right;\n",
       "    }\n",
       "</style>\n",
       "<table border=\"1\" class=\"dataframe\">\n",
       "  <thead>\n",
       "    <tr style=\"text-align: right;\">\n",
       "      <th></th>\n",
       "      <th>CHR</th>\n",
       "      <th>MAPINFO</th>\n",
       "      <th>UCSC_CpG_Islands_Name</th>\n",
       "      <th>UCSC_RefGene_Group</th>\n",
       "      <th>Relation_to_UCSC_CpG_Island</th>\n",
       "      <th>Regulatory_Feature_Group</th>\n",
       "      <th>Forward_Sequence</th>\n",
       "      <th>seq</th>\n",
       "    </tr>\n",
       "    <tr>\n",
       "      <th>Id</th>\n",
       "      <th></th>\n",
       "      <th></th>\n",
       "      <th></th>\n",
       "      <th></th>\n",
       "      <th></th>\n",
       "      <th></th>\n",
       "      <th></th>\n",
       "      <th></th>\n",
       "    </tr>\n",
       "  </thead>\n",
       "  <tbody>\n",
       "    <tr>\n",
       "      <th>cg00007981</th>\n",
       "      <td>11</td>\n",
       "      <td>93862594</td>\n",
       "      <td>chr11:93861560-93862773</td>\n",
       "      <td>1stExon</td>\n",
       "      <td>Island</td>\n",
       "      <td>NaN</td>\n",
       "      <td>AGCCCACGGAGCCCAAGTTCAAGGGGCTGCGACTGGAGCTGGCTGT...</td>\n",
       "      <td>CACACTCACTACCGTTTCCGCGCCACCCTCTCACGCGGAGCTCCTG...</td>\n",
       "    </tr>\n",
       "  </tbody>\n",
       "</table>\n",
       "</div>"
      ],
      "text/plain": [
       "            CHR   MAPINFO    UCSC_CpG_Islands_Name UCSC_RefGene_Group   \n",
       "Id                                                                      \n",
       "cg00007981   11  93862594  chr11:93861560-93862773            1stExon  \\\n",
       "\n",
       "           Relation_to_UCSC_CpG_Island Regulatory_Feature_Group   \n",
       "Id                                                                \n",
       "cg00007981                      Island                      NaN  \\\n",
       "\n",
       "                                             Forward_Sequence   \n",
       "Id                                                              \n",
       "cg00007981  AGCCCACGGAGCCCAAGTTCAAGGGGCTGCGACTGGAGCTGGCTGT...  \\\n",
       "\n",
       "                                                          seq  \n",
       "Id                                                             \n",
       "cg00007981  CACACTCACTACCGTTTCCGCGCCACCCTCTCACGCGGAGCTCCTG...  "
      ]
     },
     "execution_count": 33,
     "metadata": {},
     "output_type": "execute_result"
    }
   ],
   "source": [
    "test='./test.csv'\n",
    "df=pd.read_csv(test,index_col=0)\n",
    "df.head(1)"
   ]
  },
  {
   "cell_type": "code",
   "execution_count": 34,
   "metadata": {
    "execution": {
     "iopub.execute_input": "2020-09-10T07:30:57.964742Z",
     "iopub.status.busy": "2020-09-10T07:30:57.963939Z",
     "iopub.status.idle": "2020-09-10T07:30:57.976730Z",
     "shell.execute_reply": "2020-09-10T07:30:57.975878Z"
    },
    "papermill": {
     "duration": 0.033651,
     "end_time": "2020-09-10T07:30:57.976872",
     "exception": false,
     "start_time": "2020-09-10T07:30:57.943221",
     "status": "completed"
    },
    "tags": []
   },
   "outputs": [
    {
     "data": {
      "text/html": [
       "<div>\n",
       "<style scoped>\n",
       "    .dataframe tbody tr th:only-of-type {\n",
       "        vertical-align: middle;\n",
       "    }\n",
       "\n",
       "    .dataframe tbody tr th {\n",
       "        vertical-align: top;\n",
       "    }\n",
       "\n",
       "    .dataframe thead th {\n",
       "        text-align: right;\n",
       "    }\n",
       "</style>\n",
       "<table border=\"1\" class=\"dataframe\">\n",
       "  <thead>\n",
       "    <tr style=\"text-align: right;\">\n",
       "      <th></th>\n",
       "      <th>Island</th>\n",
       "      <th>N_Shelf</th>\n",
       "      <th>N_Shore</th>\n",
       "      <th>S_Shelf</th>\n",
       "      <th>S_Shore</th>\n",
       "    </tr>\n",
       "    <tr>\n",
       "      <th>Id</th>\n",
       "      <th></th>\n",
       "      <th></th>\n",
       "      <th></th>\n",
       "      <th></th>\n",
       "      <th></th>\n",
       "    </tr>\n",
       "  </thead>\n",
       "  <tbody>\n",
       "    <tr>\n",
       "      <th>cg00007981</th>\n",
       "      <td>True</td>\n",
       "      <td>False</td>\n",
       "      <td>False</td>\n",
       "      <td>False</td>\n",
       "      <td>False</td>\n",
       "    </tr>\n",
       "  </tbody>\n",
       "</table>\n",
       "</div>"
      ],
      "text/plain": [
       "            Island  N_Shelf  N_Shore  S_Shelf  S_Shore\n",
       "Id                                                    \n",
       "cg00007981    True    False    False    False    False"
      ]
     },
     "execution_count": 34,
     "metadata": {},
     "output_type": "execute_result"
    }
   ],
   "source": [
    "X = pd.get_dummies(df['Relation_to_UCSC_CpG_Island'])\n",
    "X.head(1)"
   ]
  },
  {
   "cell_type": "code",
   "execution_count": 35,
   "metadata": {
    "execution": {
     "iopub.execute_input": "2020-09-10T07:30:58.010709Z",
     "iopub.status.busy": "2020-09-10T07:30:58.009808Z",
     "iopub.status.idle": "2020-09-10T07:30:58.369570Z",
     "shell.execute_reply": "2020-09-10T07:30:58.368930Z"
    },
    "papermill": {
     "duration": 0.381536,
     "end_time": "2020-09-10T07:30:58.369714",
     "exception": false,
     "start_time": "2020-09-10T07:30:57.988178",
     "status": "completed"
    },
    "tags": []
   },
   "outputs": [
    {
     "data": {
      "text/html": [
       "<div>\n",
       "<style scoped>\n",
       "    .dataframe tbody tr th:only-of-type {\n",
       "        vertical-align: middle;\n",
       "    }\n",
       "\n",
       "    .dataframe tbody tr th {\n",
       "        vertical-align: top;\n",
       "    }\n",
       "\n",
       "    .dataframe thead th {\n",
       "        text-align: right;\n",
       "    }\n",
       "</style>\n",
       "<table border=\"1\" class=\"dataframe\">\n",
       "  <thead>\n",
       "    <tr style=\"text-align: right;\">\n",
       "      <th></th>\n",
       "      <th>CHR</th>\n",
       "      <th>MAPINFO</th>\n",
       "      <th>UCSC_CpG_Islands_Name</th>\n",
       "      <th>UCSC_RefGene_Group</th>\n",
       "      <th>Relation_to_UCSC_CpG_Island</th>\n",
       "      <th>Regulatory_Feature_Group</th>\n",
       "      <th>Forward_Sequence</th>\n",
       "      <th>seq</th>\n",
       "      <th>Beta</th>\n",
       "    </tr>\n",
       "    <tr>\n",
       "      <th>Id</th>\n",
       "      <th></th>\n",
       "      <th></th>\n",
       "      <th></th>\n",
       "      <th></th>\n",
       "      <th></th>\n",
       "      <th></th>\n",
       "      <th></th>\n",
       "      <th></th>\n",
       "      <th></th>\n",
       "    </tr>\n",
       "  </thead>\n",
       "  <tbody>\n",
       "    <tr>\n",
       "      <th>cg00007981</th>\n",
       "      <td>11</td>\n",
       "      <td>93862594</td>\n",
       "      <td>chr11:93861560-93862773</td>\n",
       "      <td>1stExon</td>\n",
       "      <td>Island</td>\n",
       "      <td>NaN</td>\n",
       "      <td>AGCCCACGGAGCCCAAGTTCAAGGGGCTGCGACTGGAGCTGGCTGT...</td>\n",
       "      <td>CACACTCACTACCGTTTCCGCGCCACCCTCTCACGCGGAGCTCCTG...</td>\n",
       "      <td>0</td>\n",
       "    </tr>\n",
       "  </tbody>\n",
       "</table>\n",
       "</div>"
      ],
      "text/plain": [
       "            CHR   MAPINFO    UCSC_CpG_Islands_Name UCSC_RefGene_Group   \n",
       "Id                                                                      \n",
       "cg00007981   11  93862594  chr11:93861560-93862773            1stExon  \\\n",
       "\n",
       "           Relation_to_UCSC_CpG_Island Regulatory_Feature_Group   \n",
       "Id                                                                \n",
       "cg00007981                      Island                      NaN  \\\n",
       "\n",
       "                                             Forward_Sequence   \n",
       "Id                                                              \n",
       "cg00007981  AGCCCACGGAGCCCAAGTTCAAGGGGCTGCGACTGGAGCTGGCTGT...  \\\n",
       "\n",
       "                                                          seq  Beta  \n",
       "Id                                                                   \n",
       "cg00007981  CACACTCACTACCGTTTCCGCGCCACCCTCTCACGCGGAGCTCCTG...     0  "
      ]
     },
     "execution_count": 35,
     "metadata": {},
     "output_type": "execute_result"
    }
   ],
   "source": [
    "pred=clf.predict(X)\n",
    "df['Beta']=pred\n",
    "df[['Beta']].to_csv('solution.csv')\n",
    "df.head(1)"
   ]
  }
 ],
 "metadata": {
  "kernelspec": {
   "display_name": "Python 3",
   "language": "python",
   "name": "python3"
  },
  "language_info": {
   "codemirror_mode": {
    "name": "ipython",
    "version": 3
   },
   "file_extension": ".py",
   "mimetype": "text/x-python",
   "name": "python",
   "nbconvert_exporter": "python",
   "pygments_lexer": "ipython3",
   "version": "3.11.2"
  },
  "papermill": {
   "duration": 9.21931,
   "end_time": "2020-09-10T07:30:59.410812",
   "environment_variables": {},
   "exception": null,
   "input_path": "__notebook__.ipynb",
   "output_path": "__notebook__.ipynb",
   "parameters": {},
   "start_time": "2020-09-10T07:30:50.191502",
   "version": "2.1.0"
  },
  "vscode": {
   "interpreter": {
    "hash": "31f2aee4e71d21fbe5cf8b01ff0e069b9275f58929596ceb00d14d90e3e16cd6"
   }
  }
 },
 "nbformat": 4,
 "nbformat_minor": 4
}
